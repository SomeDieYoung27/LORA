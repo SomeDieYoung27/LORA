{
 "cells": [
  {
   "cell_type": "code",
   "execution_count": null,
   "metadata": {
    "vscode": {
     "languageId": "plaintext"
    }
   },
   "outputs": [],
   "source": [
    "import torch\n",
    "import numpy as np\n",
    "_ = torch.manual_seed(0)"
   ]
  },
  {
   "cell_type": "code",
   "execution_count": null,
   "metadata": {
    "vscode": {
     "languageId": "plaintext"
    }
   },
   "outputs": [],
   "source": [
    "d,k = 10,20\n",
    "W_rank = 2\n",
    "W = torch.randn(d,W_rank) @torch.randn(W_rank,k)\n",
    "print(W)"
   ]
  },
  {
   "cell_type": "code",
   "execution_count": null,
   "metadata": {
    "vscode": {
     "languageId": "plaintext"
    }
   },
   "outputs": [],
   "source": [
    "#Evaluate the rank of the matrix\n",
    "\n",
    "w_rank = np.linalg.matrix_rank(W)\n",
    "print(f'Rank of W:{W_rank}')\n"
   ]
  },
  {
   "cell_type": "code",
   "execution_count": null,
   "metadata": {
    "vscode": {
     "languageId": "plaintext"
    }
   },
   "outputs": [],
   "source": [
    "#Calculating the SVD Decomposition of the W matrix\n",
    "\n",
    "U,S,V = torch.svd(W)\n",
    "\n",
    "#For rank factorization we keep the first r singular values\n",
    "U_r = U[:,:W_rank]\n",
    "S_r = torch.diag(S[:W_rank])\n",
    "v_r = V[:,:W_rank].t()\n",
    "\n",
    "B = U_r * S_r\n",
    "A = v_r\n",
    "print(f'Shape of B : {B.shape}')\n",
    "print(f'Shape of A :{A.shape}')\n"
   ]
  },
  {
   "cell_type": "code",
   "execution_count": null,
   "metadata": {
    "vscode": {
     "languageId": "plaintext"
    }
   },
   "outputs": [],
   "source": [
    "#Given the same input you check the output using W matrix and matrix resulting from the Decomposition\n",
    "\n",
    "#Generate random bias and input\n",
    "bias = torch.randn(d)\n",
    "x = torch.randn(d)\n",
    "\n",
    "y = W * x + bias\n",
    "y_prime = (B @ A) @x + bias\n",
    "print(\"Orignal y using W:\\n\",y)\n",
    "print(\"\")\n",
    "print(\"y\" computed using BA:\\n\",y_prime)\n",
    "\n"
   ]
  },
  {
   "cell_type": "code",
   "execution_count": null,
   "metadata": {
    "vscode": {
     "languageId": "plaintext"
    }
   },
   "outputs": [],
   "source": [
    "print(\"Total parameters of W:\",W.element())\n",
    "print(\"Total parameters of B and A\",B.element() + A.element())\n",
    "\n",
    "#They will be almost the same"
   ]
  }
 ],
 "metadata": {
  "language_info": {
   "name": "python"
  }
 },
 "nbformat": 4,
 "nbformat_minor": 2
}
